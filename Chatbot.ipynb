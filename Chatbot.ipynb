{
  "nbformat": 4,
  "nbformat_minor": 0,
  "metadata": {
    "colab": {
      "provenance": [],
      "authorship_tag": "ABX9TyNCIahwIuYGn9InURBJGdEH",
      "include_colab_link": true
    },
    "kernelspec": {
      "name": "python3",
      "display_name": "Python 3"
    },
    "language_info": {
      "name": "python"
    }
  },
  "cells": [
    {
      "cell_type": "markdown",
      "metadata": {
        "id": "view-in-github",
        "colab_type": "text"
      },
      "source": [
        "<a href=\"https://colab.research.google.com/github/vishnubharadwaj1234/Short-Circuit/blob/main/Chatbot.ipynb\" target=\"_parent\"><img src=\"https://colab.research.google.com/assets/colab-badge.svg\" alt=\"Open In Colab\"/></a>"
      ]
    },
    {
      "cell_type": "markdown",
      "source": [
        "In order to run each code cell click on the play button to the left of the numbers or hold shift + enter"
      ],
      "metadata": {
        "id": "0pUopa3F8Ajd"
      }
    },
    {
      "cell_type": "markdown",
      "source": [
        "If you are experiencing issues when running this notebook (it is running slowly) at the top click on Runtime -> Change runtime type -> T4 GPU -> Save"
      ],
      "metadata": {
        "id": "t4S4Bc727ghd"
      }
    },
    {
      "cell_type": "code",
      "execution_count": null,
      "metadata": {
        "id": "pkYLV7eq3XMB"
      },
      "outputs": [],
      "source": [
        "# Installing packages\n",
        "!pip install openai==0.28"
      ]
    },
    {
      "cell_type": "code",
      "source": [
        "# Importing libraries\n",
        "import openai\n",
        "import os"
      ],
      "metadata": {
        "id": "f3qBEOz43eNK"
      },
      "execution_count": null,
      "outputs": []
    },
    {
      "cell_type": "code",
      "source": [
        "# Setting the API Key\n",
        "openai.api_key = \"ENTER YOUR API KEY HERE (INSIDE QUOTES)\"\n",
        "\n",
        "# Creating dictionary to store all messages and responses\n",
        "messages = [\n",
        "  {\"role\": \"system\", \"content\": \"You are a friendly and helpful AI assistant.\"},\n",
        "]"
      ],
      "metadata": {
        "id": "GkzMjvTd3muP"
      },
      "execution_count": null,
      "outputs": []
    },
    {
      "cell_type": "code",
      "source": [
        "# Asking the user their question and adding it to messages dict\n",
        "question = input(\"Enter your question: \")\n",
        "messages.append({\"role\": \"user\", \"content\": question})\n",
        "# Passing the question into ChatGPT\n",
        "chat = openai.ChatCompletion.create(\n",
        "  model=\"gpt-3.5-turbo\", messages=messages\n",
        ")\n",
        "# Retrieving response and adding it to messages dict\n",
        "questions_reply = chat.choices[0].message.content\n",
        "messages.append({\"role\": \"assistant\", \"content\": questions_reply})\n",
        "# Printing message\n",
        "print(questions_reply)"
      ],
      "metadata": {
        "id": "e2JAOS3X4vu-"
      },
      "execution_count": null,
      "outputs": []
    },
    {
      "cell_type": "markdown",
      "source": [
        "Potential Next Steps:\n",
        "\n",
        "\n",
        "1.   Create a function that takes in a question and outputs a response\n",
        "2.   Create more specific questions to ask ChatGPT based on your needs\n",
        "3.   Implement the model in a gradio interface (let me know if you guys are interested)\n",
        "\n"
      ],
      "metadata": {
        "id": "xlSn1PEo8PIz"
      }
    },
    {
      "cell_type": "code",
      "source": [],
      "metadata": {
        "id": "9kiEUO7S6vSn"
      },
      "execution_count": null,
      "outputs": []
    }
  ]
}